{
  "cells": [
    {
      "metadata": {
        "collapsed": true
      },
      "cell_type": "markdown",
      "source": "# Primeira Fase do projeto"
    },
    {
      "metadata": {},
      "cell_type": "markdown",
      "source": "#### um problema que complica a vida de quem anda de carro/moto é não saber aonde-se estacionou, isso só fica pior em  estacionamentos de shopping's e afins onde você acabar gastando um grande quantidade de tempo para localizar seu automóvel e também tem a existência do seu veículo ser furtado ou violado e você não receber nenhum feedback   \n\n\n![Image of estacionamento](http://s2.glbimg.com/H5fKx_fhewkuPJCp_SbR-ScWz3ltZ1TTSXiEaXYst4pIoz-HdGixxa_8qOZvMp3w/s.glbimg.com/jo/g1/f/original/2012/03/26/estacionamento.jpg)"
    },
    {
      "metadata": {},
      "cell_type": "markdown",
      "source": "#### o estacionamento da UCL já proporciona um grande dificuldade para conseguir uma vaga para se estacionar, isso nos horários de muito movimento, o que faz você ficar rodando o estacionamento gastando um tempo considerável  "
    },
    {
      "metadata": {},
      "cell_type": "markdown",
      "source": "grandes metrópoles tem tempos de espera fora do aceitavél onde pode ficar mais de 20 minutos atras  de uma vaga o que é surreal \n\nfonte sobre as filas:\n* https://sao-paulo.estadao.com.br/noticias/geral,veja-lista-com-demora-para-achar-estacionamento-em-shoppings-de-sp,642414"
    },
    {
      "metadata": {},
      "cell_type": "markdown",
      "source": "# Segunda Fase do projeto"
    },
    {
      "metadata": {},
      "cell_type": "markdown",
      "source": "#### quando se fala de organizar vagas de estacionamentos se tem um campo muito amplo para abordar e nesse projeto resolvermos focar nos  estacionamento da instituições privadas com um volume de carros controlado por isso vamos usar o estacionamento da UCL como base e tentar fazer o gerenciamentos das vagas de forma eficiente "
    },
    {
      "metadata": {
        "trusted": true
      },
      "cell_type": "markdown",
      "source": "#### O projeto não esta focado somente para uso do estacionamento privado,mais sim, para atingir todo público que tem difilculdades de memorizar o local de onde estacionou seu veículo.\n#### Ex: O público da 3º idade e o público dos Adms que tem um dia bastante corrido. \n\n![alt text](http://s2.glbimg.com/4MS4ms8V19RhXN9ieRujxthwf6E=/620x400/e.glbimg.com/og/ed/f/original/2015/01/03/79074430_1.jpg)"
    },
    {
      "metadata": {},
      "cell_type": "markdown",
      "source": "#### Você vai ao shopping,a faculdade,ao hospital, o estacionamento está lotado, você encontra uma vaga e rapidamente estaciona ali. Esquece de olhar para os lados e ver onde estacionou. Segue às presas para seu compromisso.\n#### Na volta, entra em desespero procurando o veículo. Sai apertando e apontando o alarme do carro pra tudo que é lado pra encontrar o local onde você parou. Chega a ser engraçado! Mas, às vezes, constrangedor e se torna uma situação chata, que incomoda."
    },
    {
      "metadata": {
        "trusted": true
      },
      "cell_type": "markdown",
      "source": "#  Fase 3 Identificação de formas de solução\n\n\n\n\n\n#### O produto tem que ser de fácil manuseio e uma interface comunicativa com o usuário.\n#### O produto informará ao usuário a informação precisa de onde estacionou seu veículo.\n#### O produto informará a localização do veículo com apenas 3(três) cliques.\n#### A interface do aplicativo tem que ter tela de entrada com o logo e o nome find-your-car\n#### A segunda tela terá o nome ONDE,esse será o local onde vc informará onde estacionou,EX: nome do shopping,da faculdade,do hospital etc.\n#### Abrirá uma terceira tela com a localização do veículo pelo google map.\n\n\n"
    },
    {
      "metadata": {
        "trusted": true
      },
      "cell_type": "code",
      "source": "",
      "execution_count": null,
      "outputs": []
    }
  ],
  "metadata": {
    "kernelspec": {
      "name": "python36",
      "display_name": "Python 3.6",
      "language": "python"
    },
    "language_info": {
      "mimetype": "text/x-python",
      "nbconvert_exporter": "python",
      "name": "python",
      "pygments_lexer": "ipython3",
      "version": "3.6.6",
      "file_extension": ".py",
      "codemirror_mode": {
        "version": 3,
        "name": "ipython"
      }
    }
  },
  "nbformat": 4,
  "nbformat_minor": 2
}