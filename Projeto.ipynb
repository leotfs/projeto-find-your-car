{
  "cells": [
    {
      "metadata": {
        "collapsed": true
      },
      "cell_type": "markdown",
      "source": "# Primeira Fase do projeto"
    },
    {
      "metadata": {},
      "cell_type": "markdown",
      "source": "#### um problema que complica a vida de quem anda de carro/moto é não saber aonde-se estacionou, isso só fica pior em  estacionamentos de shopping's e afins onde você acabar gastando um grande quantidade de tempo para localizar seu automóvel e também tem a existência do seu veículo ser furtado ou violado e você não receber nenhum feedback   \n\n\n![Image of estacionamento](http://s2.glbimg.com/H5fKx_fhewkuPJCp_SbR-ScWz3ltZ1TTSXiEaXYst4pIoz-HdGixxa_8qOZvMp3w/s.glbimg.com/jo/g1/f/original/2012/03/26/estacionamento.jpg)"
    },
    {
      "metadata": {},
      "cell_type": "markdown",
      "source": "#### o estacionamento da UCL já proporciona um grande dificuldade para conseguir uma vaga para se estacionar, isso nos horários de muito movimento, o que faz você ficar rodando o estacionamento gastando um tempo considerável  "
    },
    {
      "metadata": {},
      "cell_type": "markdown",
      "source": "grandes metrópoles tem tempos de espera fora do aceitavél onde pode ficar mais de 20 minutos atras  de uma vaga o que é surreal \n\nfonte sobre as filas:\n* https://sao-paulo.estadao.com.br/noticias/geral,veja-lista-com-demora-para-achar-estacionamento-em-shoppings-de-sp,642414"
    },
    {
      "metadata": {
        "trusted": true
      },
      "cell_type": "code",
      "source": "![Image of Yaktocat](https://octodex.github.com/images/yaktocat.png)\ncomo colocar imagens\n",
      "execution_count": 1,
      "outputs": [
        {
          "output_type": "error",
          "ename": "SyntaxError",
          "evalue": "invalid syntax (<ipython-input-1-6a80d9a06fba>, line 2)",
          "traceback": [
            "\u001b[0;36m  File \u001b[0;32m\"<ipython-input-1-6a80d9a06fba>\"\u001b[0;36m, line \u001b[0;32m2\u001b[0m\n\u001b[0;31m    como colocar imagens\u001b[0m\n\u001b[0m               ^\u001b[0m\n\u001b[0;31mSyntaxError\u001b[0m\u001b[0;31m:\u001b[0m invalid syntax\n"
          ]
        }
      ]
    },
    {
      "metadata": {},
      "cell_type": "markdown",
      "source": "# Segunda Fase do projeto"
    },
    {
      "metadata": {},
      "cell_type": "markdown",
      "source": "#### quando se fala de organizar vagas de estacionamentos se tem um campo muito amplo para abordar e nesse projeto resolvermos focar nos  estacionamento da instituições privadas com um volume de carros controlado por isso vamos usar o estacionamento da UCL como base e tentar fazer o gerenciamentos das vagas de forma eficiente "
    },
    {
      "metadata": {
        "trusted": true
      },
      "cell_type": "code",
      "source": "",
      "execution_count": null,
      "outputs": []
    }
  ],
  "metadata": {
    "kernelspec": {
      "name": "python36",
      "display_name": "Python 3.6",
      "language": "python"
    },
    "language_info": {
      "mimetype": "text/x-python",
      "nbconvert_exporter": "python",
      "name": "python",
      "pygments_lexer": "ipython3",
      "version": "3.6.6",
      "file_extension": ".py",
      "codemirror_mode": {
        "version": 3,
        "name": "ipython"
      }
    }
  },
  "nbformat": 4,
  "nbformat_minor": 2
}